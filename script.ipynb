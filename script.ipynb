{
 "cells": [
  {
   "cell_type": "markdown",
   "metadata": {
    "_cell_guid": "1aa5d3a9-ec4a-ad7c-ccf8-b50bbc63a0b4"
   },
   "source": [
    "## Selectively Hiding Code ##\n",
    "\n",
    "Suppose you have 500 lines of a dictionary definition, which if displayed on default \n",
    "would probably overwhelm your user.  This is a problem I'm facing with the [US Income for Select States][1], although for that Kernel I chose to hide all the cells on default.  This is different.  Suppose\n",
    "you want the user to dictate the input cell.\n",
    "\n",
    "<button onclick=\"javascript:toggleInput(0)\" class=\"button\">Show Code</button>\n",
    "\n",
    "\n",
    "  [1]: https://www.kaggle.com/mchirico/d/census/2015-american-community-survey/us-income-for-select-states"
   ]
  },
  {
   "cell_type": "code",
   "execution_count": 1,
   "metadata": {
    "_cell_guid": "cc110826-48f9-8a02-6d48-59aea69abca6"
   },
   "outputs": [
    {
     "data": {
      "text/html": [
       "\n",
       "<style>\n",
       ".button {\n",
       "    background-color: #008CBA;;\n",
       "    border: none;\n",
       "    color: white;\n",
       "    padding: 8px 22px;\n",
       "    text-align: center;\n",
       "    text-decoration: none;\n",
       "    display: inline-block;\n",
       "    font-size: 16px;\n",
       "    margin: 4px 2px;\n",
       "    cursor: pointer;\n",
       "}\n",
       "</style>\n",
       " <script>\n",
       "   // Assume 3 input cells. Manage from here.\n",
       "   var divTag0 = document.getElementsByClassName(\"input\")[0]\n",
       "   var displaySetting0 = divTag0.style.display;\n",
       "   // Default display - set to 'none'.  To hide, set to 'block'.\n",
       "   // divTag0.style.display = 'block';\n",
       "   divTag0.style.display = 'none';\n",
       "   \n",
       "   var divTag1 = document.getElementsByClassName(\"input\")[1]\n",
       "   var displaySetting1 = divTag1.style.display;\n",
       "   // Default display - set to 'none'.  To hide, set to 'block'.\n",
       "      divTag1.style.display = 'block';\n",
       "   //divTag1.style.display = 'none';\n",
       "   \n",
       "   var divTag2 = document.getElementsByClassName(\"input\")[2]\n",
       "   var displaySetting2 = divTag2.style.display;\n",
       "   // Default display - set to 'none'.  To hide, set to 'none'.\n",
       "   divTag2.style.display = 'block';\n",
       "   //divTag2.style.display = 'none';\n",
       " \n",
       "    function toggleInput(i) { \n",
       "      var divTag = document.getElementsByClassName(\"input\")[i]\n",
       "      var displaySetting = divTag.style.display;\n",
       "     \n",
       "      if (displaySetting == 'block') { \n",
       "         divTag.style.display = 'none';\n",
       "       }\n",
       "      else { \n",
       "         divTag.style.display = 'block';\n",
       "       } \n",
       "  }  \n",
       "  </script>\n",
       "  <!-- <button onclick=\"javascript:toggleInput(0)\" class=\"button\">Show Code</button> -->\n"
      ],
      "text/plain": [
       "<IPython.core.display.HTML object>"
      ]
     },
     "metadata": {},
     "output_type": "display_data"
    },
    {
     "name": "stdout",
     "output_type": "stream",
     "text": [
      "Code above produced me...click Show Code to see it.\n"
     ]
    }
   ],
   "source": [
    "from IPython.display import HTML\n",
    "from IPython.display import display\n",
    "baseCodeHide=\"\"\"\n",
    "<style>\n",
    ".button {\n",
    "    background-color: #008CBA;;\n",
    "    border: none;\n",
    "    color: white;\n",
    "    padding: 8px 22px;\n",
    "    text-align: center;\n",
    "    text-decoration: none;\n",
    "    display: inline-block;\n",
    "    font-size: 16px;\n",
    "    margin: 4px 2px;\n",
    "    cursor: pointer;\n",
    "}\n",
    "</style>\n",
    " <script>\n",
    "   // Assume 3 input cells. Manage from here.\n",
    "   var divTag0 = document.getElementsByClassName(\"input\")[0]\n",
    "   var displaySetting0 = divTag0.style.display;\n",
    "   // Default display - set to 'none'.  To hide, set to 'block'.\n",
    "   // divTag0.style.display = 'block';\n",
    "   divTag0.style.display = 'none';\n",
    "   \n",
    "   var divTag1 = document.getElementsByClassName(\"input\")[1]\n",
    "   var displaySetting1 = divTag1.style.display;\n",
    "   // Default display - set to 'none'.  To hide, set to 'block'.\n",
    "      divTag1.style.display = 'block';\n",
    "   //divTag1.style.display = 'none';\n",
    "   \n",
    "   var divTag2 = document.getElementsByClassName(\"input\")[2]\n",
    "   var displaySetting2 = divTag2.style.display;\n",
    "   // Default display - set to 'none'.  To hide, set to 'none'.\n",
    "   divTag2.style.display = 'block';\n",
    "   //divTag2.style.display = 'none';\n",
    " \n",
    "    function toggleInput(i) { \n",
    "      var divTag = document.getElementsByClassName(\"input\")[i]\n",
    "      var displaySetting = divTag.style.display;\n",
    "     \n",
    "      if (displaySetting == 'block') { \n",
    "         divTag.style.display = 'none';\n",
    "       }\n",
    "      else { \n",
    "         divTag.style.display = 'block';\n",
    "       } \n",
    "  }  \n",
    "  </script>\n",
    "  <!-- <button onclick=\"javascript:toggleInput(0)\" class=\"button\">Show Code</button> -->\n",
    "\"\"\"\n",
    "h=HTML(baseCodeHide)\n",
    "\n",
    "\n",
    "display(h)\n",
    "print(\"Code above produced me...click Show Code to see it.\")"
   ]
  },
  {
   "cell_type": "markdown",
   "metadata": {
    "_cell_guid": "3ad9e2cc-fe41-c7ae-d441-ec7a30cdace8"
   },
   "source": [
    "## Next Section... ##\n",
    "\n",
    "Here you may some conversation about code, but you don't\n",
    "want to pollute the screen, until the user is ready to see it.\n",
    "\n",
    "Note...the input for the **toggleInput(1)** .. the next input will be **toggleInput(2)**\n",
    "\n",
    "<button onclick=\"javascript:toggleInput(1)\" class=\"button\">Toggle Code</button>"
   ]
  },
  {
   "cell_type": "code",
   "execution_count": null,
   "metadata": {
    "_cell_guid": "f39667b3-8ec7-338c-8ad0-c8f4f4af7e9b"
   },
   "outputs": [],
   "source": [
    "\n",
    "\n",
    "# This Python 3 environment comes with many helpful analytics libraries installed\n",
    "# It is defined by the kaggle/python docker image: https://github.com/kaggle/docker-python\n",
    "# For example, here's several helpful packages to load in \n",
    "\n",
    "import numpy as np # linear algebra\n",
    "import pandas as pd # data processing, CSV file I/O (e.g. pd.read_csv)\n",
    "\n",
    "# Input data files are available in the \"../input/\" directory.\n",
    "# For example, running this (by clicking run or pressing Shift+Enter) will list the files in the input directory\n",
    "\n",
    "\n",
    "\n",
    "\n",
    "\n",
    "from subprocess import check_output\n",
    "print(check_output([\"ls\", \"../input\"]).decode(\"utf8\"))\n",
    "\n",
    "# Any results you write to the current directory are saved as output."
   ]
  },
  {
   "cell_type": "code",
   "execution_count": null,
   "metadata": {
    "_cell_guid": "371d8972-f060-80c5-1787-bf197cffa73c"
   },
   "outputs": [],
   "source": [
    "from IPython.display import HTML\n",
    "from IPython.display import display\n",
    "\n",
    "cellNum=2\n",
    "cellDisp='none'  # Other option is 'block'\n",
    "cell=\"\"\"\n",
    "<script>\n",
    "   var divTag = document.getElementsByClassName(\"input\")[%s]\n",
    "   var displaySetting = divTag.style.display;\n",
    "   // Default display - set to 'none'.  To hide, set to 'block'.\n",
    "   // divTag.style.display = 'block';\n",
    "   divTag.style.display = '%s';\n",
    "<script>\n",
    "<!-- <button onclick=\"javascript:toggleInput(%s)\" class=\"button\">Toggle Code</button> -->\n",
    "\"\"\" % (cellNum,'none',cellNum)\n",
    "h=HTML(cell)\n",
    "display(h)"
   ]
  },
  {
   "cell_type": "markdown",
   "metadata": {
    "_cell_guid": "9010a544-7fc7-2a72-20dd-12bc73816124"
   },
   "source": [
    "Last Line.... not sure why this isn't being displayed...\n",
    "\n",
    "\n"
   ]
  },
  {
   "cell_type": "code",
   "execution_count": null,
   "metadata": {
    "_cell_guid": "78c870de-7ee9-22f2-ec10-08b5c44938e6"
   },
   "outputs": [],
   "source": [
    "from IPython.display import HTML\n",
    "from IPython.display import display\n",
    "# Last line.. this is a hack\n",
    "# so that the browser can expand. You'll need to adjust\n",
    "br=\"<br>\"*1000\n",
    "HTML(br)"
   ]
  }
 ],
 "metadata": {
  "_change_revision": 0,
  "_is_fork": false,
  "kernelspec": {
   "display_name": "Python 3",
   "language": "python",
   "name": "python3"
  },
  "language_info": {
   "codemirror_mode": {
    "name": "ipython",
    "version": 3
   },
   "file_extension": ".py",
   "mimetype": "text/x-python",
   "name": "python",
   "nbconvert_exporter": "python",
   "pygments_lexer": "ipython3",
   "version": "3.6.5"
  },
  "toc": {
   "base_numbering": 1,
   "nav_menu": {},
   "number_sections": true,
   "sideBar": true,
   "skip_h1_title": true,
   "title_cell": "Table of Contents",
   "title_sidebar": "Contents",
   "toc_cell": false,
   "toc_position": {},
   "toc_section_display": true,
   "toc_window_display": true
  },
  "varInspector": {
   "cols": {
    "lenName": 16,
    "lenType": 16,
    "lenVar": 40
   },
   "kernels_config": {
    "python": {
     "delete_cmd_postfix": "",
     "delete_cmd_prefix": "del ",
     "library": "var_list.py",
     "varRefreshCmd": "print(var_dic_list())"
    },
    "r": {
     "delete_cmd_postfix": ") ",
     "delete_cmd_prefix": "rm(",
     "library": "var_list.r",
     "varRefreshCmd": "cat(var_dic_list()) "
    }
   },
   "types_to_exclude": [
    "module",
    "function",
    "builtin_function_or_method",
    "instance",
    "_Feature"
   ],
   "window_display": false
  }
 },
 "nbformat": 4,
 "nbformat_minor": 1
}
